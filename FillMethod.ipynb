{
 "cells": [
  {
   "cell_type": "code",
   "execution_count": 2,
   "id": "bbfa839e",
   "metadata": {},
   "outputs": [],
   "source": [
    "import numpy as np\n",
    "import matplotlib.pyplot as plt\n",
    "import math\n",
    "from mpl_toolkits.mplot3d import Axes3D"
   ]
  },
  {
   "cell_type": "code",
   "execution_count": 204,
   "id": "3a436e9d",
   "metadata": {},
   "outputs": [],
   "source": [
    "n = np.random.randint(15, size=[10, 10, 2])"
   ]
  },
  {
   "cell_type": "code",
   "execution_count": 575,
   "id": "f6225543",
   "metadata": {},
   "outputs": [],
   "source": [
    "def create_start_mask(img: np.ndarray):\n",
    "    mask = np.zeros(img.shape, dtype=int)\n",
    "    return mask\n",
    "\n",
    "\n",
    "def rec(img: np.ndarray, mask: np.ndarray, delta_min: int, delta_max: int, pixel: list):\n",
    "    \"\"\"\n",
    "    Заливка от начального пиксела впаво и влево.\n",
    "    \"\"\"\n",
    "    queue = [pixel]\n",
    "    while queue:\n",
    "        pixel = queue.pop(0)\n",
    "        if not check_in_mask(mask[pixel[0]][pixel[1]][pixel[2]], 255):\n",
    "            forward(img, mask, delta_min, delta_max, pixel, queue)\n",
    "            backward(img, mask, delta_min, delta_max, pixel, queue)\n",
    "    return mask\n",
    "\n",
    "\n",
    "def backward(img_arr: np.ndarray, mask: np.ndarray, delta_min: int, delta_max: int, pixel: list, queue: list):\n",
    "    \"\"\"\n",
    "    Движение влево.\n",
    "    \"\"\"\n",
    "    _pixel = deepcopy(pixel)\n",
    "    while check_color(img_arr[_pixel[0]][_pixel[1]][_pixel[2]], delta_min, delta_max):\n",
    "        mask[_pixel[0]][_pixel[1]][pixel[2]] = 255\n",
    "        check_up_and_down_pixels(img_arr, mask, delta_min, delta_max, _pixel, queue)\n",
    "        check_slice_pixels(img_arr, mask, delta_min, delta_max, _pixel, queue)\n",
    "        if 0 <= _pixel[0] - 1:\n",
    "            _pixel[0] -= 1\n",
    "        else:\n",
    "            break\n",
    "\n",
    "\n",
    "def forward(img_arr: np.ndarray, mask: np.ndarray, delta_min: int, delta_max: int, pixel: list, queue: list):\n",
    "    \"\"\"\n",
    "    Движение вправо.\n",
    "    \"\"\"\n",
    "    _pixel = deepcopy(pixel)\n",
    "    while check_color(img_arr[_pixel[0]][_pixel[1]][_pixel[2]], delta_min, delta_max):\n",
    "        mask[_pixel[0]][_pixel[1]][_pixel[2]] = 255\n",
    "        check_up_and_down_pixels(img_arr, mask, delta_min, delta_max, _pixel, queue)\n",
    "        check_slice_pixels(img_arr, mask, delta_min, delta_max, _pixel, queue)\n",
    "        if _pixel[0] + 1 < img_arr.shape[0]:\n",
    "            _pixel[0] += 1\n",
    "        else:\n",
    "            break\n",
    "\n",
    "\n",
    "def check_up_and_down_pixels(img_arr: np.ndarray, mask: np.ndarray,\n",
    "                             delta_min: int, delta_max: int, pixel: list, queue: list):\n",
    "    \"\"\"\n",
    "    Проверка пикселей и создание \"опорных\" точек.\n",
    "    \"\"\"\n",
    "    if pixel[1] + 1 < img_arr.shape[1]:\n",
    "        if not check_in_mask(mask[pixel[0]][pixel[1] + 1][pixel[2]], 255):\n",
    "            if check_color(img_arr[pixel[0]][pixel[1] + 1][pixel[2]], delta_min, delta_max):\n",
    "                queue.append([pixel[0], pixel[1] + 1, pixel[2]])\n",
    "    if 0 <= pixel[1] - 1:\n",
    "        if not check_in_mask(mask[pixel[0]][pixel[1] - 1][pixel[2]], 255):\n",
    "            if check_color(img_arr[pixel[0]][pixel[1] - 1][pixel[2]], delta_min, delta_max):\n",
    "                queue.append([pixel[0], pixel[1] - 1, pixel[2]])\n",
    "\n",
    "\n",
    "def check_slice_pixels(img_arr: np.ndarray, mask: np.ndarray, delta_min: int, delta_max: int, pixel: list, queue: list):\n",
    "    if pixel[2] + 1 < img_arr.shape[2]:\n",
    "        if not check_in_mask(mask[pixel[0]][pixel[1]][pixel[2] + 1], 255):\n",
    "            if check_color(img_arr[pixel[0]][pixel[1]][pixel[2] + 1], delta_min, delta_max):\n",
    "                queue.append([pixel[0], pixel[1], pixel[2] + 1])\n",
    "    if 0 <= pixel[2] - 1:\n",
    "        if not check_in_mask(mask[pixel[0]][pixel[1]][pixel[2] - 1], 255):\n",
    "            if check_color(img_arr[pixel[0]][pixel[1]][pixel[2] - 1], delta_min, delta_max):\n",
    "                queue.append([pixel[0], pixel[1], pixel[2] - 1])\n",
    "\n",
    "\n",
    "def check_color(a: int, min_delta: int, max_delta: int):\n",
    "    \"\"\"\n",
    "    Проверка цвета пикселя изображения.\n",
    "    \"\"\"\n",
    "    if min_delta <= a <= max_delta:\n",
    "        return True\n",
    "    else:\n",
    "        return False\n",
    "\n",
    "\n",
    "def check_in_mask(a: int, b: int):\n",
    "    \"\"\"\n",
    "    Проверка закрашен ли пиксель в маске.\n",
    "    \"\"\"\n",
    "    if a == b:\n",
    "        return True\n",
    "    else:\n",
    "        return False\n",
    "\n",
    "\n",
    "def main():\n",
    "    x = 1\n",
    "    y = 1\n",
    "    z = 1\n",
    "    n = np.random.randint(256, size=[10, 20, 2]).astype(np.uint8)\n",
    "    delta = 90\n",
    "    min_color = n[x][y][z] - delta\n",
    "    max_color = n[x][y][z] + delta\n",
    "    new_img = rec(n, create_start_mask(n), min_color, max_color, [x, y, z]).astype(np.uint8)\n",
    "    return n, new_img\n",
    "    # file_path = 'image_data/test_photo.bmp'\n",
    "    # out_path = 'outputs.bmp'\n",
    "    # img = cv.imread(file_path, 0)\n",
    "    # Image.fromarray(rec(img,\n",
    "    #                     create_start_mask(img),\n",
    "    #                     min_color,\n",
    "    #                     max_color, [x, y, z]).astype(np.uint8)).save(out_path)\n",
    "    "
   ]
  },
  {
   "cell_type": "code",
   "execution_count": 576,
   "id": "f9ea4cf5",
   "metadata": {},
   "outputs": [],
   "source": [
    "n, new = main()"
   ]
  },
  {
   "cell_type": "code",
   "execution_count": 577,
   "id": "2946e182",
   "metadata": {
    "scrolled": true
   },
   "outputs": [
    {
     "data": {
      "text/plain": [
       "<matplotlib.image.AxesImage at 0x2a05cbdde80>"
      ]
     },
     "execution_count": 577,
     "metadata": {},
     "output_type": "execute_result"
    },
    {
     "data": {
      "image/png": "[encoded data removed]",
      "text/plain": [
       "<Figure size 432x288 with 1 Axes>"
      ]
     },
     "metadata": {
      "needs_background": "light"
     },
     "output_type": "display_data"
    }
   ],
   "source": [
    "plt.imshow(n[:,:,0], cmap='gray', vmin=0, vmax=255)"
   ]
  },
  {
   "cell_type": "code",
   "execution_count": 578,
   "id": "c5e09939",
   "metadata": {},
   "outputs": [
    {
     "data": {
      "text/plain": [
       "<matplotlib.image.AxesImage at 0x2a05cc45970>"
      ]
     },
     "execution_count": 578,
     "metadata": {},
     "output_type": "execute_result"
    },
    {
     "data": {
      "image/png": "[encoded data removed]",
      "text/plain": [
       "<Figure size 432x288 with 1 Axes>"
      ]
     },
     "metadata": {
      "needs_background": "light"
     },
     "output_type": "display_data"
    }
   ],
   "source": [
    "plt.imshow(n[:,:,1], cmap='gray', vmin=0, vmax=255)"
   ]
  },
  {
   "cell_type": "code",
   "execution_count": 579,
   "id": "85784523",
   "metadata": {},
   "outputs": [
    {
     "data": {
      "text/plain": [
       "<matplotlib.image.AxesImage at 0x2a05cca3f70>"
      ]
     },
     "execution_count": 579,
     "metadata": {},
     "output_type": "execute_result"
    },
    {
     "data": {
      "image/png": "[encoded data removed]",
      "text/plain": [
       "<Figure size 432x288 with 1 Axes>"
      ]
     },
     "metadata": {
      "needs_background": "light"
     },
     "output_type": "display_data"
    }
   ],
   "source": [
    "plt.imshow(new[:, :, 1], cmap='gray', vmin=0, vmax=255)"
   ]
  },
  {
   "cell_type": "code",
   "execution_count": 580,
   "id": "2eebdff8",
   "metadata": {},
   "outputs": [
    {
     "data": {
      "text/plain": [
       "<matplotlib.image.AxesImage at 0x2a05cd0aa90>"
      ]
     },
     "execution_count": 580,
     "metadata": {},
     "output_type": "execute_result"
    },
    {
     "data": {
      "image/png": "[encoded data removed]",
      "text/plain": [
       "<Figure size 432x288 with 1 Axes>"
      ]
     },
     "metadata": {
      "needs_background": "light"
     },
     "output_type": "display_data"
    }
   ],
   "source": [
    "plt.imshow(new[:, :, 0], cmap='gray', vmin=0, vmax=255)"
   ]
  },
  {
   "cell_type": "code",
   "execution_count": null,
   "id": "cfa9ed41",
   "metadata": {},
   "outputs": [],
   "source": []
  },
  {
   "cell_type": "code",
   "execution_count": null,
   "id": "b44c7e08",
   "metadata": {},
   "outputs": [],
   "source": []
  }
 ],
 "metadata": {
  "kernelspec": {
   "display_name": "Python 3",
   "language": "python",
   "name": "python3"
  },
  "language_info": {
   "codemirror_mode": {
    "name": "ipython",
    "version": 3
   },
   "file_extension": ".py",
   "mimetype": "text/x-python",
   "name": "python",
   "nbconvert_exporter": "python",
   "pygments_lexer": "ipython3",
   "version": "3.9.2"
  }
 },
 "nbformat": 4,
 "nbformat_minor": 5
}
